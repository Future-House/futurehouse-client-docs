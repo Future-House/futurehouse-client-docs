{
 "cells": [
  {
   "cell_type": "markdown",
   "metadata": {},
   "source": [
    "# FutureHouse platform client usage example"
   ]
  },
  {
   "cell_type": "code",
   "execution_count": 12,
   "metadata": {},
   "outputs": [
    {
     "ename": "ImportError",
     "evalue": "cannot import name 'FutureHouseClient' from 'futurehouse_client' (/Users/maykcaldas/Documents/FutureHouse/crow-client-docs/.venv/lib/python3.12/site-packages/futurehouse_client/__init__.py)",
     "output_type": "error",
     "traceback": [
      "\u001b[31m---------------------------------------------------------------------------\u001b[39m",
      "\u001b[31mImportError\u001b[39m                               Traceback (most recent call last)",
      "\u001b[36mCell\u001b[39m\u001b[36m \u001b[39m\u001b[32mIn[12]\u001b[39m\u001b[32m, line 3\u001b[39m\n\u001b[32m      1\u001b[39m \u001b[38;5;28;01mimport\u001b[39;00m\u001b[38;5;250m \u001b[39m\u001b[34;01mtime\u001b[39;00m\n\u001b[32m----> \u001b[39m\u001b[32m3\u001b[39m \u001b[38;5;28;01mfrom\u001b[39;00m\u001b[38;5;250m \u001b[39m\u001b[34;01mfuturehouse_client\u001b[39;00m\u001b[38;5;250m \u001b[39m\u001b[38;5;28;01mimport\u001b[39;00m FutureHouseClient, JobNames\n\u001b[32m      4\u001b[39m \u001b[38;5;28;01mfrom\u001b[39;00m\u001b[38;5;250m \u001b[39m\u001b[34;01mfuturehouse_client\u001b[39;00m\u001b[34;01m.\u001b[39;00m\u001b[34;01mmodels\u001b[39;00m\u001b[38;5;250m \u001b[39m\u001b[38;5;28;01mimport\u001b[39;00m (\n\u001b[32m      5\u001b[39m     AuthType,\n\u001b[32m      6\u001b[39m     JobRequest,\n\u001b[32m      7\u001b[39m     RuntimeConfig,\n\u001b[32m      8\u001b[39m     Stage,\n\u001b[32m      9\u001b[39m )\n\u001b[32m     10\u001b[39m \u001b[38;5;28;01mfrom\u001b[39;00m\u001b[38;5;250m \u001b[39m\u001b[34;01mldp\u001b[39;00m\u001b[34;01m.\u001b[39;00m\u001b[34;01magent\u001b[39;00m\u001b[38;5;250m \u001b[39m\u001b[38;5;28;01mimport\u001b[39;00m AgentConfig\n",
      "\u001b[31mImportError\u001b[39m: cannot import name 'FutureHouseClient' from 'futurehouse_client' (/Users/maykcaldas/Documents/FutureHouse/crow-client-docs/.venv/lib/python3.12/site-packages/futurehouse_client/__init__.py)"
     ]
    }
   ],
   "source": [
    "import time\n",
    "\n",
    "from futurehouse_client import FutureHouseClient, JobNames\n",
    "from futurehouse_client.models import (\n",
    "    AuthType,\n",
    "    JobRequest,\n",
    "    RuntimeConfig,\n",
    "    Stage,\n",
    ")\n",
    "from ldp.agent import AgentConfig"
   ]
  },
  {
   "cell_type": "markdown",
   "metadata": {},
   "source": [
    "## Client instantiation\n",
    "\n",
    "Here we use `auth_type=AuthType.API_KEY` to authenticate with the platform.\n",
    "Please log in to the platform and go to your user settings to get your API key."
   ]
  },
  {
   "cell_type": "code",
   "execution_count": null,
   "metadata": {},
   "outputs": [],
   "source": [
    "client = FutureHouseClient(\n",
    "    stage=Stage.PROD,\n",
    "    auth_type=AuthType.API_KEY,\n",
    "    api_key=\"your-api-key\",\n",
    ")"
   ]
  },
  {
   "cell_type": "markdown",
   "metadata": {},
   "source": [
    "## Submit a job"
   ]
  },
  {
   "cell_type": "markdown",
   "metadata": {},
   "source": [
    "Submitting jobs is done by calling the `create_job` method, which receives a `JobRequest` object."
   ]
  },
  {
   "cell_type": "code",
   "execution_count": null,
   "metadata": {},
   "outputs": [],
   "source": [
    "job_data = JobRequest(\n",
    "    name=JobNames.from_string(\"crow\"),\n",
    "    query=\"What is the molecule known to have the smallest solubility in water?\",\n",
    ")\n",
    "client.create_job(job_data)\n",
    "\n",
    "while client.get_job().status != \"success\":\n",
    "    time.sleep(5)\n",
    "print(f\"Job status: {client.get_job().status}\")\n",
    "print(f\"Job answer: \\n{client.get_job().formatted_answer}\")"
   ]
  },
  {
   "cell_type": "markdown",
   "metadata": {},
   "source": [
    "You can also pass a `runtime_config` to the job, which will be used to configure the agent on runtime.\n",
    "Here, we will define a agent configuration and pass it to the job. This agent is used to decide the next action to take.\n",
    "We will also use the `max_steps` parameter to limit the number of steps the agent will take."
   ]
  },
  {
   "cell_type": "code",
   "execution_count": null,
   "metadata": {},
   "outputs": [],
   "source": [
    "agent = AgentConfig(\n",
    "    agent_type=\"SimpleAgent\",\n",
    "    agent_kwargs={\n",
    "        \"model\": \"gpt-4o\",\n",
    "        \"temperature\": 0.0,\n",
    "    },\n",
    ")\n",
    "job_data = JobRequest(\n",
    "    name=JobNames.CROW,\n",
    "    query=\"How many moons does earth have?\",\n",
    "    runtime_config=RuntimeConfig(agent=agent, max_steps=10),\n",
    ")\n",
    "client.create_job(job_data)\n",
    "\n",
    "while client.get_job().status != \"success\":\n",
    "    time.sleep(5)\n",
    "print(f\"Job status: {client.get_job().status}\")\n",
    "print(f\"Job answer: \\n{client.get_job().formatted_answer}\")"
   ]
  },
  {
   "cell_type": "markdown",
   "metadata": {},
   "source": [
    "# Continue a job\n",
    "\n",
    "The platform allows to keep asking follow-up questions to the previous job.\n",
    "To accomplish that, we can use the `runtime_config` to pass the `job_id` of the previous job.\n",
    "\n",
    "Notice that `create_job` accepts both a `JobRequest` object and a dictionary with keywords arguments."
   ]
  },
  {
   "cell_type": "code",
   "execution_count": null,
   "metadata": {},
   "outputs": [],
   "source": [
    "job_data = JobRequest(\n",
    "    name=JobNames.CROW,\n",
    "    query=\"How many species of birds are there?\"\n",
    ")\n",
    "\n",
    "job_id = client.create_job(job_data)\n",
    "while client.get_job().status != \"success\":\n",
    "    time.sleep(5)\n",
    "print(f\"First job status: {client.get_job().status}\")\n",
    "print(f\"First job answer: \\n{client.get_job().formatted_answer}\")"
   ]
  },
  {
   "cell_type": "code",
   "execution_count": null,
   "metadata": {},
   "outputs": [],
   "source": [
    "continued_job_data = {\n",
    "    \"name\": JobNames.CROW,\n",
    "    \"query\": \"From the previous answer, specifically,how many species of crows are there?\",\n",
    "    \"runtime_config\": {\n",
    "        \"continued_job_id\": job_id\n",
    "    }\n",
    "}\n",
    "\n",
    "continued_job_id = client.create_job(continued_job_data)\n",
    "while client.get_job().status != \"success\":\n",
    "    time.sleep(5)\n",
    "print(f\"Continued job status: {client.get_job().status}\")\n",
    "print(f\"Continued job answer: \\n{client.get_job().formatted_answer}\")"
   ]
  }
 ],
 "metadata": {
  "kernelspec": {
   "display_name": ".venv",
   "language": "python",
   "name": "python3"
  },
  "language_info": {
   "codemirror_mode": {
    "name": "ipython",
    "version": 3
   },
   "file_extension": ".py",
   "mimetype": "text/x-python",
   "name": "python",
   "nbconvert_exporter": "python",
   "pygments_lexer": "ipython3"
  }
 },
 "nbformat": 4,
 "nbformat_minor": 4
}
