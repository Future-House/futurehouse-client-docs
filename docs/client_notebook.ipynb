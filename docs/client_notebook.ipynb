{
 "cells": [
  {
   "cell_type": "markdown",
   "metadata": {},
   "source": [
    "# FutureHouse platform client usage example"
   ]
  },
  {
   "cell_type": "code",
   "execution_count": null,
   "metadata": {},
   "outputs": [],
   "source": [
    "import time\n",
    "\n",
    "from crow_client import CrowClient, JobNames\n",
    "from crow_client.models import (\n",
    "    AuthType,\n",
    "    JobRequest,\n",
    "    RuntimeConfig,\n",
    "    Stage,\n",
    ")\n",
    "from ldp.agent import AgentConfig"
   ]
  },
  {
   "cell_type": "markdown",
   "metadata": {},
   "source": [
    "## Client instantiation\n",
    "\n",
    "Here we use `auth_type=AuthType.API_KEY` to authenticate with the platform.\n",
    "Please log in to the platform and go to your user settings to get your API key."
   ]
  },
  {
   "cell_type": "code",
   "execution_count": null,
   "metadata": {},
   "outputs": [],
   "source": [
    "client = CrowClient(\n",
    "    stage=Stage.DEV,\n",
    "    auth_type=AuthType.API_KEY,\n",
    "    api_key=\"your-api-key\",\n",
    ")"
   ]
  },
  {
   "cell_type": "markdown",
   "metadata": {},
   "source": [
    "## Submit a job"
   ]
  },
  {
   "cell_type": "markdown",
   "metadata": {},
   "source": [
    "Submitting jobs is done by calling the `create_job` method, which receives a `JobRequest` object."
   ]
  },
  {
   "cell_type": "code",
   "execution_count": null,
   "metadata": {},
   "outputs": [
    {
     "name": "stdout",
     "output_type": "stream",
     "text": [
      "Job status: success\n",
      "Job answer: \n",
      "Question: What is the molecule known to have the smallest solubility in water?\n",
      "\n",
      "Based on the available excerpts, the molecule reported to have the smallest solubility in water is 2,6,10,14‐tetramethylpentadecane. This conclusion is derived from quantitative measurements in the study by Tolls et al., which focused on the aqueous solubility of C10‐ to C19‐alkanes.\n",
      "\n",
      "Tolls et al. measured solubility values using advanced techniques (including headspace solid-phase microextraction and purge and trap/thermal desorption) to determine extremely low concentrations. In their study, they report that among a range of saturated hydrocarbons, 2,6,10,14‐tetramethylpentadecane shows the lowest solubility, with a value of 0.01 μg/L. This corresponds to a molar concentration of approximately 3.7 × 10⁻¹¹ M (tolls2002aqueoussolubility−molecularsize pages 3-4). In the same study, pentadecane is reported with a solubility of 0.04 μg/L (1.9 × 10⁻¹⁰ M), which is notably higher than that of 2,6,10,14‐tetramethylpentadecane. The extremely low solubility of 2,6,10,14‐tetramethylpentadecane is consistent with the observed inverse relationship between molecular size (and degree of branching) and aqueous solubility for alkanes, as larger and more branched molecules require a higher energetic penalty to form a cavity in water (tolls2002aqueoussolubility−molecularsize pages 3-4, tolls2002aqueoussolubility−molecularsize pages 4-5).\n",
      "\n",
      "Other sources in the provided context examined very low water solubility in different systems. For example, Varaprath et al. investigated the aqueous solubility of permethylsiloxanes and concluded that nonvolatile PDMS (polydimethylsiloxane) has essentially nonmeasurable solubility in water (varaprath1996aqueoussolubilityof pages 2-3, varaprath1996aqueoussolubilityof pages 3-3). However, PDMS is a polymeric silicone fluid, and its “essentially no measurable solubility” description is contextually different from the molecular measurements provided by Tolls et al. Furthermore, PDMS is not given a precise quantitative solubility value in the excerpts, which precludes a direct comparison with the clearly defined molar solubility value of 2,6,10,14‐tetramethylpentadecane.\n",
      "\n",
      "Additional context is provided by Hildebrand (1916) in his treatment of gas solubilities. Hildebrand’s measurements indicate that nitrogen has one of the lowest solubility values among gases in water (0.13 × 10⁻⁴ mol fraction at 25 °C on pages 14-17), and he also notes that carbon disulfide is “scarcely soluble at all in water” (hildebrand1916solubility pages 14-17, hildebrand1916solubility pages 17-19). However, these are measurements for gases and are expressed in different units (mole fraction) compared to the extremely low molar concentration reported for 2,6,10,14‐tetramethylpentadecane. Thus, while certain gases appear to have very low solubility, the quantitative evidence provided for 2,6,10,14‐tetramethylpentadecane in the context of saturated hydrocarbons clearly identifies it as having the smallest solubility among the molecules studied.\n",
      "\n",
      "In the realm of drug discovery and molecular design, Ishikawa and Hashimoto discuss strategies to improve aqueous solubility by disrupting molecular planarity and symmetry (ishikawa2011improvementinaqueous pages 7-9, ishikawa2011improvementinaqueous pages 15-15, ishikawa2011improvementinaqueous pages 9-10). They mention compounds with solubilities below 0.001 mg/mL, such as certain PPARδ partial agonists and TCDD (2,3,7,8-Tetrachlorodibenzo-para-dioxin). Although these values indicate extremely poor water solubility for those molecules as well, the numerical values (expressed in mg/mL or μM) are not directly comparable to the ultralow solubility found for 2,6,10,14‐tetramethylpentadecane. For instance, a compound with a solubility below 0.001 mg/mL corresponds to a concentration in the micromolar range, which is significantly higher than the 10⁻¹¹ M solubility reported for 2,6,10,14‐tetramethylpentadecane. Moreover, Ishikawa and Hashimoto do not claim that any of their examples define the absolute minimum solubility in water; their focus is on relative improvements in solubility achieved through molecular modifications.\n",
      "\n",
      "In summary, within the provided context the precise quantitative measurements come primarily from Tolls et al. Their data clearly rank 2,6,10,14‐tetramethylpentadecane as having the lowest water solubility among the explored C10–C19 alkane series. It is the most insoluble compound reported in that study, with a solubility of 0.01 μg/L (approximately 3.7 × 10⁻¹¹ M) (tolls2002aqueoussolubility−molecularsize pages 3-4, tolls2002aqueoussolubility−molecularsize pages 4-5). While other studies in the context examine extremely low solubility in different molecular classes (gases, silicones, and drug candidates), none provide a definitive quantitative ranking that challenges the ultralow solubility of 2,6,10,14‐tetramethylpentadecane. Therefore, based on the available evidence, 2,6,10,14‐tetramethylpentadecane is identified as the molecule known to have the smallest solubility in water among the substances discussed.\n",
      "\n",
      "This conclusion is drawn from direct measurements and comparative analysis within the context of aqueous solubility studies involving nonpolar, saturated hydrocarbons where molecular size and structure—specifically extensive branching—play a crucial role in reducing solubility. The extremely low solubility value reported for 2,6,10,14‐tetramethylpentadecane is a consequence of its high hydrophobicity and the significant energetic cost required to form a cavity within water’s hydrogen-bonded network to accommodate such a large, nonpolar molecule. Thus, in the realm of hydrocarbons investigated by Tolls et al., no other molecule exhibits a lower water solubility than 2,6,10,14‐tetramethylpentadecane (tolls2002aqueoussolubility−molecularsize pages 3-4, tolls2002aqueoussolubility−molecularsize pages 4-5).\n",
      "\n",
      "References\n",
      "\n",
      "1. (tolls2002aqueoussolubility−molecularsize pages 3-4): Johannes Tolls, John van Dijk, Eric J. M. Verbruggen, Joop L. M. Hermens, Björn Loeprecht, and Gerrit Schüürmann. Aqueous solubility−molecular size relationships: a mechanistic case study using c<sub>10</sub>- to c<sub>19</sub>-alkanes. The Journal of Physical Chemistry A, 106:2760-2765, Feb 2002. URL: https://doi.org/10.1021/jp011755a, doi:10.1021/jp011755a. This article has 109 citations.\n",
      "\n",
      "2. (tolls2002aqueoussolubility−molecularsize pages 4-5): Johannes Tolls, John van Dijk, Eric J. M. Verbruggen, Joop L. M. Hermens, Björn Loeprecht, and Gerrit Schüürmann. Aqueous solubility−molecular size relationships: a mechanistic case study using c<sub>10</sub>- to c<sub>19</sub>-alkanes. The Journal of Physical Chemistry A, 106:2760-2765, Feb 2002. URL: https://doi.org/10.1021/jp011755a, doi:10.1021/jp011755a. This article has 109 citations.\n",
      "\n",
      "3. (varaprath1996aqueoussolubilityof pages 2-3): Sudarsanan Varaprath, Cecil L. Frye, and Jerry Hamelink. Aqueous solubility of permethylsiloxanes (silicones). Environmental Toxicology and Chemistry, 15:1263-1265, Aug 1996. URL: https://doi.org/10.1002/etc.5620150803, doi:10.1002/etc.5620150803. This article has 125 citations and is from a highest quality peer-reviewed journal.\n",
      "\n",
      "4. (ishikawa2011improvementinaqueous pages 7-9): Minoru Ishikawa and Yuichi Hashimoto. Improvement in aqueous solubility in small molecule drug discovery programs by disruption of molecular planarity and symmetry. Journal of Medicinal Chemistry, 54:1539-1554, Feb 2011. URL: https://doi.org/10.1021/jm101356p, doi:10.1021/jm101356p. This article has 609 citations and is from a highest quality peer-reviewed journal.\n",
      "\n",
      "5. (varaprath1996aqueoussolubilityof pages 3-3): Sudarsanan Varaprath, Cecil L. Frye, and Jerry Hamelink. Aqueous solubility of permethylsiloxanes (silicones). Environmental Toxicology and Chemistry, 15:1263-1265, Aug 1996. URL: https://doi.org/10.1002/etc.5620150803, doi:10.1002/etc.5620150803. This article has 125 citations and is from a highest quality peer-reviewed journal.\n",
      "\n",
      "6. (ishikawa2011improvementinaqueous pages 15-15): Minoru Ishikawa and Yuichi Hashimoto. Improvement in aqueous solubility in small molecule drug discovery programs by disruption of molecular planarity and symmetry. Journal of Medicinal Chemistry, 54:1539-1554, Feb 2011. URL: https://doi.org/10.1021/jm101356p, doi:10.1021/jm101356p. This article has 609 citations and is from a highest quality peer-reviewed journal.\n",
      "\n",
      "7. (ishikawa2011improvementinaqueous pages 9-10): Minoru Ishikawa and Yuichi Hashimoto. Improvement in aqueous solubility in small molecule drug discovery programs by disruption of molecular planarity and symmetry. Journal of Medicinal Chemistry, 54:1539-1554, Feb 2011. URL: https://doi.org/10.1021/jm101356p, doi:10.1021/jm101356p. This article has 609 citations and is from a highest quality peer-reviewed journal.\n",
      "\n"
     ]
    }
   ],
   "source": [
    "job_data = JobRequest(\n",
    "    name=JobNames.from_string(\"crow\"),\n",
    "    query=\"What is the molecule known to have the smallest solubility in water?\",\n",
    ")\n",
    "client.create_job(job_data)\n",
    "\n",
    "while client.get_job().status != \"success\":\n",
    "    time.sleep(5)\n",
    "print(f\"Job status: {client.get_job().status}\")\n",
    "print(f\"Job answer: \\n{client.get_job().formatted_answer}\")"
   ]
  },
  {
   "cell_type": "markdown",
   "metadata": {},
   "source": [
    "You can also pass a `runtime_config` to the job, which will be used to configure the agent on runtime.\n",
    "Here, we will define a agent configuration and pass it to the job. This agent is used to decide the next action to take.\n",
    "We will also use the `max_steps` parameter to limit the number of steps the agent will take."
   ]
  },
  {
   "cell_type": "code",
   "execution_count": null,
   "metadata": {},
   "outputs": [
    {
     "name": "stdout",
     "output_type": "stream",
     "text": [
      "Job status: success\n",
      "Job answer: \n",
      "Question: How many moons does earth have?\n",
      "\n",
      "Earth has one permanent natural satellite—the Moon—which has been Earth’s constant companion for over four billion years (jedicke2018earthsminimoonsopportunities pages 1-4; canup2012formingamoon pages 1-3; moonsUnknownyearallmoonsgreat pages 1-2). While Earth’s gravitational field sometimes captures additional small objects, these “minimoons” are temporary natural satellites, not permanent additions to the system (jedicke2018earthsminimoonsopportunities pages 4-6; jedicke2018earthsminimoonsopportunities pages 16-18).\n",
      "\n",
      "The permanent Moon, with a diameter on the order of ~3,500 km, is the outcome of a singular, giant impact event—a collision between proto-Earth and a Mars-sized body—which produced a circumterrestrial debris disk that eventually coalesced into today’s Moon (canup2012formingamoon pages 1-3; belbruno2005wheredidthe pages 45-48). This formation process not only explains the Moon’s bulk properties and characteristic angular momentum of the Earth–Moon system, but it also accounts for the nearly identical oxygen isotopic ratios shared with Earth, reinforcing the notion that our Moon is unique among Earth’s satellites (belbruno2005wheredidthe pages 52-55).\n",
      "\n",
      "In addition to this one permanent satellite, dynamic simulations and observational surveys have demonstrated that Earth’s gravity occasionally captures Near-Earth Objects (NEOs) into temporary orbits. These objects, referred to as “minimoons” or Temporarily Captured Objects (TCOs), typically measure only a few meters or less and remain bound to Earth for only several weeks to months, sometimes up to around a year (jedicke2018earthsminimoonsopportunities pages 6-9; jedicke2018earthsminimoonsopportunities pages 11-13). For example, the object designated 2006 RH120 was observed as a minimoon that stayed within the Earth–Moon system for about one year before escaping (jedicke2018earthsminimoonsopportunities pages 4-6).\n",
      "\n",
      "The dynamics that lead to these temporary captures can be analyzed using the Circular Restricted Three-Body Problem (CR3BP), which explains that while objects near Earth’s Hill sphere—influenced by both Earth’s and the Sun’s gravity—can become bound to Earth for short periods, there is no long-term stabilization mechanism in a purely gravitational capture scenario (jedicke2018earthsminimoonsopportunities pages 1-4; jedicke2018earthsminimoonsopportunities pages 21-23). This phenomenon is distinct from the evolution and long-term stability of the permanent Moon that resulted from the giant impact (canup2012formingamoon pages 3-4).\n",
      "\n",
      "Furthermore, historical and observational records have long recognized only one permanent Moon orbiting Earth. Early astronomers, constrained by naked-eye observations and later by telescopic studies, were aware of a single celestial body accompanying Earth, a fact that is emphasized in reviews of moons across the solar system (moonsUnknownyearallmoonsgreat pages 1-2; petersUnknownyearmanybluemoons pages 8-9). Studies of lunar cratering and bombardment patterns, such as those by Gallant et al., also concentrate solely on the permanent Moon, reinforcing that Earth has only one long-standing natural satellite (gallant2009currentbombardmentof pages 21-25).\n",
      "\n",
      "It is crucial to note that the presence of these temporary minimoon objects does not alter the canonical definition of the Earth–Moon system. In classical planetary science, a “moon” is defined as a natural satellite that is gravitationally bound to a planet on a stable orbit over geological timescales. In this regard, the transient nature of minimoon captures—often lasting merely months with rapid orbital evolution dictated by NEO dynamics—prevents them from being considered true moons in the same sense as the permanently captured Moon (jedicke2018earthsminimoonsopportunities pages 16-18; jedicke2018earthsminimoonsopportunities pages 21-23).\n",
      "\n",
      "The gravitational interplay that permits the temporary capture of small asteroids is quantitatively different from the processes that maintain a permanent satellite. With only about 0.00001% of all NEOs experiencing capture as TCOs each year, and with estimates indicating that there may be only one or two minimoon-sized objects (approximately 1 meter in diameter or larger) present at any given time (jedicke2018earthsminimoonsopportunities pages 6-9), the contribution of these ephemeral objects to Earth’s satellite inventory is negligible when compared to the constant, well-defined presence of the Moon (jedicke2018earthsminimoonsopportunities pages 11-13).\n",
      "\n",
      "Simulations and observational evidence have refined our understanding of temporary capture mechanisms, and while future telescopic capabilities (e.g., the Large Synoptic Survey Telescope, LSST) are expected to increase the detection rate of minimoon events, this will not change the established fact that Earth has one permanent moon (jedicke2018earthsminimoonsopportunities pages 16-18; petersUnknownyearmanybluemoons pages 8-9). Therefore, from both a dynamical stability viewpoint and a historical observational perspective, the Earth–Moon system remains defined by a single, long-term satellite.\n",
      "\n",
      "In summary, the abundant evidence across impact dynamics, isotopic comparisons, detailed orbital simulations, and historical astronomical observations conclusively demonstrates that Earth possesses one permanent natural satellite—the Moon. Temporary captures of small asteroids (minimoons) are recognized and well documented within the framework of celestial mechanics; however, their transient and unstable nature means they are not included in the conventional count of Earth’s moons (canup2012formingamoon pages 3-4; belbruno2005wheredidthe pages 1-4; jedicke2018earthsminimoonsopportunities pages 1-4).\n",
      "\n",
      "Thus, while Earth’s gravitational field may sporadically host a few transient objects, these do not redefine the singular nature of Earth’s naturally retained satellite. The stability, size, and formation history of the Moon set it apart from any minimoon captures, solidifying the view that Earth has exactly one permanent moon—a fact that remains central to both contemporary scientific understanding and the historical record of Earth's celestial environment (belbruno2005wheredidthe pages 52-55; gallant2009currentbombardmentof pages 21-25).\n",
      "\n",
      "To conclude, based on the extensive literature and observational records provided by the referenced studies, Earth’s satellite count is unequivocally one permanent moon, with additional transient minimoon captures being temporary and non-definitive components of the Earth–Moon system (jedicke2018earthsminimoonsopportunities pages 16-18; petersUnknownyearmanybluemoons pages 8-9).\n",
      "\n",
      "References\n",
      "\n",
      "1. (jedicke2018earthsminimoonsopportunities pages 1-4): Robert Jedicke, Bryce T. Bolin, William F. Bottke, Monique Chyba, Grigori Fedorets, Mikael Granvik, Lynne Jones, and Hodei Urrutxua. Earth's minimoons: opportunities for science and technology. Frontiers in Astronomy and Space Sciences, 5:13, May 2018. URL: https://doi.org/10.3389/fspas.2018.00013, doi:10.3389/fspas.2018.00013. This article has 35 citations and is from a peer-reviewed journal.\n",
      "\n",
      "2. (canup2012formingamoon pages 3-4): Robin M. Canup. Forming a moon with an earth-like composition via a giant impact. Science, 338:1052-1055, Nov 2012. URL: https://doi.org/10.1126/science.1226073, doi:10.1126/science.1226073. This article has 639 citations and is from a highest quality peer-reviewed journal.\n",
      "\n",
      "3. (moonsUnknownyearallmoonsgreat pages 1-2): J Moons. All moons great and small... Unknown journal, Unknown year.\n",
      "\n",
      "4. (belbruno2005wheredidthe pages 45-48): Edward Belbruno and J. Richard Gott III. Where did the moon come from? The Astronomical Journal, 129:1724-1745, Mar 2005. URL: https://doi.org/10.1086/427539, doi:10.1086/427539. This article has 111 citations.\n",
      "\n",
      "5. (jedicke2018earthsminimoonsopportunities pages 16-18): Robert Jedicke, Bryce T. Bolin, William F. Bottke, Monique Chyba, Grigori Fedorets, Mikael Granvik, Lynne Jones, and Hodei Urrutxua. Earth's minimoons: opportunities for science and technology. Frontiers in Astronomy and Space Sciences, 5:13, May 2018. URL: https://doi.org/10.3389/fspas.2018.00013, doi:10.3389/fspas.2018.00013. This article has 35 citations and is from a peer-reviewed journal.\n",
      "\n",
      "6. (jedicke2018earthsminimoonsopportunities pages 4-6): Robert Jedicke, Bryce T. Bolin, William F. Bottke, Monique Chyba, Grigori Fedorets, Mikael Granvik, Lynne Jones, and Hodei Urrutxua. Earth's minimoons: opportunities for science and technology. Frontiers in Astronomy and Space Sciences, 5:13, May 2018. URL: https://doi.org/10.3389/fspas.2018.00013, doi:10.3389/fspas.2018.00013. This article has 35 citations and is from a peer-reviewed journal.\n",
      "\n",
      "7. (jedicke2018earthsminimoonsopportunities pages 6-9): Robert Jedicke, Bryce T. Bolin, William F. Bottke, Monique Chyba, Grigori Fedorets, Mikael Granvik, Lynne Jones, and Hodei Urrutxua. Earth's minimoons: opportunities for science and technology. Frontiers in Astronomy and Space Sciences, 5:13, May 2018. URL: https://doi.org/10.3389/fspas.2018.00013, doi:10.3389/fspas.2018.00013. This article has 35 citations and is from a peer-reviewed journal.\n",
      "\n",
      "8. (canup2012formingamoon pages 1-3): Robin M. Canup. Forming a moon with an earth-like composition via a giant impact. Science, 338:1052-1055, Nov 2012. URL: https://doi.org/10.1126/science.1226073, doi:10.1126/science.1226073. This article has 639 citations and is from a highest quality peer-reviewed journal.\n",
      "\n",
      "9. (jedicke2018earthsminimoonsopportunities pages 11-13): Robert Jedicke, Bryce T. Bolin, William F. Bottke, Monique Chyba, Grigori Fedorets, Mikael Granvik, Lynne Jones, and Hodei Urrutxua. Earth's minimoons: opportunities for science and technology. Frontiers in Astronomy and Space Sciences, 5:13, May 2018. URL: https://doi.org/10.3389/fspas.2018.00013, doi:10.3389/fspas.2018.00013. This article has 35 citations and is from a peer-reviewed journal.\n",
      "\n",
      "10. (jedicke2018earthsminimoonsopportunities pages 21-23): Robert Jedicke, Bryce T. Bolin, William F. Bottke, Monique Chyba, Grigori Fedorets, Mikael Granvik, Lynne Jones, and Hodei Urrutxua. Earth's minimoons: opportunities for science and technology. Frontiers in Astronomy and Space Sciences, 5:13, May 2018. URL: https://doi.org/10.3389/fspas.2018.00013, doi:10.3389/fspas.2018.00013. This article has 35 citations and is from a peer-reviewed journal.\n",
      "\n",
      "11. (belbruno2005wheredidthe pages 1-4): Edward Belbruno and J. Richard Gott III. Where did the moon come from? The Astronomical Journal, 129:1724-1745, Mar 2005. URL: https://doi.org/10.1086/427539, doi:10.1086/427539. This article has 111 citations.\n",
      "\n",
      "12. (belbruno2005wheredidthe pages 52-55): Edward Belbruno and J. Richard Gott III. Where did the moon come from? The Astronomical Journal, 129:1724-1745, Mar 2005. URL: https://doi.org/10.1086/427539, doi:10.1086/427539. This article has 111 citations.\n",
      "\n",
      "13. (gallant2009currentbombardmentof pages 21-25): J. Gallant, B. Gladman, and M. Ćuk. Current bombardment of the earth–moon system: emphasis on cratering asymmetries. Icarus, 202:371-382, Aug 2009. URL: https://doi.org/10.1016/j.icarus.2009.03.025, doi:10.1016/j.icarus.2009.03.025. This article has 89 citations and is from a peer-reviewed journal.\n",
      "\n",
      "14. (petersUnknownyearmanybluemoons pages 8-9): ART Peters. Many blue moons. Unknown journal, Unknown year.\n",
      "\n"
     ]
    }
   ],
   "source": [
    "agent = AgentConfig(\n",
    "    agent_type=\"SimpleAgent\",\n",
    "    agent_kwargs={\n",
    "        \"model\": \"gpt-4o\",\n",
    "        \"temperature\": 0.0,\n",
    "    },\n",
    ")\n",
    "job_data = JobRequest(\n",
    "    name=JobNames.CROW,\n",
    "    query=\"How many moons does earth have?\",\n",
    "    runtime_config=RuntimeConfig(agent=agent, max_steps=10),\n",
    ")\n",
    "client.create_job(job_data)\n",
    "\n",
    "while client.get_job().status != \"success\":\n",
    "    time.sleep(5)\n",
    "print(f\"Job status: {client.get_job().status}\")\n",
    "print(f\"Job answer: \\n{client.get_job().formatted_answer}\")"
   ]
  },
  {
   "cell_type": "markdown",
   "metadata": {},
   "source": [
    "# Continue a job\n",
    "\n",
    "The platform allows to keep asking follow-up questions to the previous job.\n",
    "To accomplish that, we can use the `runtime_config` to pass the `job_id` of the previous job.\n",
    "\n",
    "Notice that `create_job` accepts both a `JobRequest` object and a dictionary with keywords arguments."
   ]
  },
  {
   "cell_type": "code",
   "execution_count": null,
   "metadata": {},
   "outputs": [
    {
     "name": "stdout",
     "output_type": "stream",
     "text": [
      "First job status: success\n",
      "First job answer: \n",
      "Question: How many species of birds are there?\n",
      "\n",
      "There is no single answer because the count depends on the species concept and taxonomic approach used. Traditional checklists based on the biological species concept recognize roughly 9,000–11,000 species. For example, traditional lists such as those referenced by Barrowclough et al. list approximately 9,159 biological species (which later revisions brought up to around 10,021), and other authoritative treatments like the IOC World Bird List report counts around 10,828 species (isaksson2018impactofurbanization pages 15–18; isaksson2018impactofurbanization pages 1–8). In contrast, when applying a phylogenetic or evolutionary species concept—which splits biological species into smaller, diagnosable evolutionary units—the total number increases substantially.\n",
      "\n",
      "Barrowclough et al. (2016) performed a morphological study by examining a random sample of 200 biological species and found that on average each biological species contained almost two distinct evolutionary units. Extrapolating this ratio to a reference list of 9,159 biological species produced an estimate of approximately 18,043 phylogenetic species worldwide (95% confidence interval: 15,845–20,470) (barrowclough2016howmanykinds pages 1–2; barrowclough2016howmanykinds pages 4–5). A separate meta-analysis based on mitochondrial DNA (mtDNA) studies of 437 biological species further supports these findings; it revealed an average of 2.4 evolutionary units per biological species, suggesting that the true number of evolutionarily distinct entities might even be higher—up to around 22,000 species (barrowclough2016howmanykinds pages 5–8). In regions such as the tropics, where each biological species may contain an average of 3.5 phylogenetic units compared to 1.4 in temperate regions, the underestimation appears to be especially pronounced (barrowclough2016howmanykinds pages 5–8).\n",
      "\n",
      "Thus, the two approaches yield very different estimates:  \n",
      "• If one adheres strictly to the biological species concept (based on morphological similarities and reproductive isolation criteria), the count ranges roughly between 9,000 and 11,000 species. (isaksson2018impactofurbanization pages 8–13; isaksson2018impactofurbanization pages 15–18)  \n",
      "• If one adopts a phylogenetic species concept (which focuses on diagnosable evolutionary units and genetic divergence), the estimated total is nearly double—around 18,000 species or even up to 22,000 in some analyses. (barrowclough2016howmanykinds pages 1–2; barrowclough2016howmanykinds pages 5–8)\n",
      "\n",
      "It is important to note that such differences are not merely academic. The representation of bird diversity has significant implications for conservation and our understanding of biogeography. Underestimating the number of evolutionarily distinct lineages may result in misdirected conservation priorities, especially as many of the extrapolated phylogenetic species reveal lineages that are geographically and ecologically unique (barrowclough2016howmanykinds pages 11–13).\n",
      "\n",
      "Moreover, while traditional taxonomic treatments and regional checklists like the Annotated Checklist of the Birds of Brazil indicate numerical counts that are lower than the phylogenetic estimates (for example, the Brazilian checklist recognizes 1,971 species in that country, representing a regional subset of the global diversity) (pacheco2021annotatedchecklistof pages 18–21), these numbers should be seen as context-dependent benchmarks. Global estimates based solely on biological species counts have remained relatively stable over recent decades, only increasing by about 9% over 25 years (barrowclough2016howmanykinds pages 1–2). In contrast, evolutionary analyses suggest that the stable counts of traditionally recognized species mask a much richer underlying diversity.\n",
      "\n",
      "Thus, for an expert audience the answer is best framed as follows: The officially recognized biological species of birds number approximately 9,000–11,000 worldwide, while evolutionary and phylogenetic analyses reveal that the true diversity—when considering diagnosable evolutionary units—likely ranges from approximately 16,000 to 24,000, with a central estimate near 18,000 species (barrowclough2016howmanykinds pages 1–2; barrowclough2016howmanykinds pages 5–8; isaksson2018impactofurbanization pages 8–13). This divergence underscores the need for an integrative taxonomic approach in avian biodiversity assessments (barrowclough2016howmanykinds pages 2–4).\n",
      "\n",
      "Each of these figures is supported by robust analyses using both morphological and molecular data. The morphological approach calculated a nearly twofold increase in species diversity, while mtDNA-based studies indicate that the evolutionary splits among birds may be even more numerous (barrowclough2016howmanykinds pages 8–11). Therefore, while the broadly accepted count under traditional taxonomy is around 10,000, the “true” number of bird species—as understood from evolutionary biology—could be significantly higher.\n",
      "\n"
     ]
    }
   ],
   "source": [
    "job_data = JobRequest(\n",
    "    name=JobNames.CROW,\n",
    "    query=\"How many species of birds are there?\"\n",
    ")\n",
    "\n",
    "job_id = client.create_job(job_data)\n",
    "while client.get_job().status != \"success\":\n",
    "    time.sleep(5)\n",
    "print(f\"First job status: {client.get_job().status}\")\n",
    "print(f\"First job answer: \\n{client.get_job().formatted_answer}\")"
   ]
  },
  {
   "cell_type": "code",
   "execution_count": null,
   "metadata": {},
   "outputs": [
    {
     "name": "stdout",
     "output_type": "stream",
     "text": [
      "Continued job status: success\n",
      "Continued job answer: \n",
      "Question: You are following up on a prior task: How many species of birds are there?\n",
      "\n",
      "To perform a new task using prior context: From the previous answer, specifically,how many species of crows are there?\n",
      "\n",
      "Crows, defined here as members of the genus Corvus, are estimated to comprise approximately 40 species worldwide (krol2020crowsandravens pages 1-3). This number is derived from an analysis of the Corvidae family, where crows constitute around one‐third of the overall diversity. The referenced study explicitly states that these 40 crow species are distributed across all continents except South America and Antarctica, as well as in certain remote archipelagos such as Hawaii, Micronesia, and Melanesia (krol2020crowsandravens pages 1-3).\n",
      "\n",
      "It is important to note that while other sources in the context address the broader family Corvidae or focus on urban species of corvids, none of these sources contradict the specific figure provided for the genus Corvus. For instance, the systematic literature review on urban corvids identifies a variety of species and subpopulation categories in urban settings (benmazouz2021corvidsinurban pages 3-6; benmazouz2021corvidsinurban pages 10-12), but it does not provide a total global count for crows. Therefore, the most definitive number comes from the evaluation by Król and Hernik, confirming the estimate of 40 crow species (krol2020crowsandravens pages 1-3).\n",
      "\n",
      "In summary, based solely on the provided context, the globally recognized number of crow species—when defined strictly as members of the genus Corvus—is approximately 40. This figure aligns with modern taxonomic assessments that consider both traditional morphological traits and broader biogeographic patterns specific to this group (krol2020crowsandravens pages 1-3).\n",
      "\n",
      "References\n",
      "\n",
      "1. (krol2020crowsandravens pages 1-3): Karol Król and Józef Hernik. Crows and ravens as indicators of socioeconomic and cultural changes in urban areas. Sustainability, 12:10231, Dec 2020. URL: https://doi.org/10.3390/su122410231, doi:10.3390/su122410231. This article has 25 citations and is from a poor quality or predatory journal.\n",
      "\n",
      "2. (benmazouz2021corvidsinurban pages 10-12): Isma Benmazouz, Jukka Jokimäki, Szabolcs Lengyel, Lajos Juhász, Marja-Liisa Kaisanlahti-Jokimäki, Gábor Kardos, Petra Paládi, and László Kövér. Corvids in urban environments: a systematic global literature review. Animals, 11:3226, Nov 2021. URL: https://doi.org/10.3390/ani11113226, doi:10.3390/ani11113226. This article has 62 citations and is from a peer-reviewed journal.\n",
      "\n",
      "3. (benmazouz2021corvidsinurban pages 3-6): Isma Benmazouz, Jukka Jokimäki, Szabolcs Lengyel, Lajos Juhász, Marja-Liisa Kaisanlahti-Jokimäki, Gábor Kardos, Petra Paládi, and László Kövér. Corvids in urban environments: a systematic global literature review. Animals, 11:3226, Nov 2021. URL: https://doi.org/10.3390/ani11113226, doi:10.3390/ani11113226. This article has 62 citations and is from a peer-reviewed journal.\n",
      "\n"
     ]
    }
   ],
   "source": [
    "continued_job_data = {\n",
    "    \"name\": JobNames.CROW,\n",
    "    \"query\": \"From the previous answer, specifically,how many species of crows are there?\",\n",
    "    \"runtime_config\": {\n",
    "        \"continued_job_id\": job_id\n",
    "    }\n",
    "}\n",
    "\n",
    "continued_job_id = client.create_job(continued_job_data)\n",
    "while client.get_job().status != \"success\":\n",
    "    time.sleep(5)\n",
    "print(f\"Continued job status: {client.get_job().status}\")\n",
    "print(f\"Continued job answer: \\n{client.get_job().formatted_answer}\")"
   ]
  }
 ],
 "metadata": {
  "kernelspec": {
   "display_name": ".venv",
   "language": "python",
   "name": "python3"
  },
  "language_info": {
   "codemirror_mode": {
    "name": "ipython",
    "version": 3
   },
   "file_extension": ".py",
   "mimetype": "text/x-python",
   "name": "python",
   "nbconvert_exporter": "python",
   "pygments_lexer": "ipython3"
  }
 },
 "nbformat": 4,
 "nbformat_minor": 4
}
