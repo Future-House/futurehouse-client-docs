{
 "cells": [
  {
   "cell_type": "markdown",
   "metadata": {},
   "source": [
    "# FutureHouse platform client usage example"
   ]
  },
  {
   "cell_type": "code",
   "execution_count": null,
   "metadata": {},
   "outputs": [],
   "source": [
    "import time\n",
    "\n",
    "from crow_client import CrowClient\n",
    "from crow_client.clients import JobNames\n",
    "from crow_client.models import (\n",
    "    AuthType,\n",
    "    JobRequest,\n",
    "    RuntimeConfig,\n",
    "    Stage,\n",
    ")\n",
    "from ldp.agent import AgentConfig"
   ]
  },
  {
   "cell_type": "markdown",
   "metadata": {},
   "source": [
    "## Client instantiation"
   ]
  },
  {
   "cell_type": "code",
   "execution_count": null,
   "metadata": {},
   "outputs": [],
   "source": [
    "client = CrowClient(stage=Stage.DEV, auth_type=AuthType.GOOGLE)"
   ]
  },
  {
   "cell_type": "markdown",
   "metadata": {},
   "source": [
    "## Submit a job"
   ]
  },
  {
   "cell_type": "markdown",
   "metadata": {},
   "source": [
    "Submitting jobs is done by calling the `create_job` method, which receives a `JobRequest` object."
   ]
  },
  {
   "cell_type": "code",
   "execution_count": null,
   "metadata": {},
   "outputs": [],
   "source": [
    "job_data = JobRequest(\n",
    "    name=JobNames.from_string(\"dummy\"),\n",
    "    query=\"How many moons does earth have?\",\n",
    ")\n",
    "client.create_job(job_data)\n",
    "\n",
    "while client.get_job()[\"status\"] != \"success\":\n",
    "    time.sleep(5)\n",
    "print(client.get_job())"
   ]
  },
  {
   "cell_type": "markdown",
   "metadata": {},
   "source": [
    "You can also pass a `runtime_config` to the job, which will be used to configure the agent on runtime."
   ]
  },
  {
   "cell_type": "code",
   "execution_count": null,
   "metadata": {},
   "outputs": [],
   "source": [
    "agent = AgentConfig(\n",
    "    agent_type=\"ReActAgent\",\n",
    "    agent_kwargs={\n",
    "        \"model\": \"gpt-4o-mini\",\n",
    "        \"temperature\": 0.0,\n",
    "    },\n",
    ")\n",
    "job_data = JobRequest(\n",
    "    name=JobNames.DUMMY,\n",
    "    query=\"How many moons does earth have?\",\n",
    "    runtime_config=RuntimeConfig(agent=agent, max_steps=5),\n",
    ")\n",
    "client.create_job(job_data)\n",
    "\n",
    "while client.get_job()[\"status\"] != \"success\":\n",
    "    time.sleep(5)\n",
    "print(client.get_job())"
   ]
  }
 ],
 "metadata": {
  "kernelspec": {
   "display_name": ".venv",
   "language": "python",
   "name": "python3"
  },
  "language_info": {
   "codemirror_mode": {
    "name": "ipython",
    "version": 3
   },
   "file_extension": ".py",
   "mimetype": "text/x-python",
   "name": "python",
   "nbconvert_exporter": "python",
   "pygments_lexer": "ipython3"
  }
 },
 "nbformat": 4,
 "nbformat_minor": 4
}
