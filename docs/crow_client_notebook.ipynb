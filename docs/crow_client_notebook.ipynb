{
 "cells": [
  {
   "cell_type": "code",
   "execution_count": null,
   "metadata": {},
   "outputs": [],
   "source": [
    "import time\n",
    "from pathlib import Path\n",
    "\n",
    "from crow_client import CrowClient\n",
    "from crow_client.models import (\n",
    "    AuthType,\n",
    "    CrowDeploymentConfig,\n",
    "    DockerContainerConfiguration,\n",
    "    FramePath,\n",
    "    JobRequest,\n",
    "    RuntimeConfig,\n",
    "    Stage,\n",
    ")\n",
    "from ldp.agent import AgentConfig"
   ]
  },
  {
   "cell_type": "code",
   "execution_count": null,
   "metadata": {},
   "outputs": [
    {
     "name": "stderr",
     "output_type": "stream",
     "text": [
      "127.0.0.1 - - [14/Mar/2025 10:10:41] \"GET /?state=fQHtLyC5T4rSkWU2wDyMHg&code=4%2F0AQSTgQE_M3CZS_5e0Gvv5Vkpp7r21iSX14wmO_LBi-ZtBF0rSRFfj9a7yzI2QJPAuOiJQA&scope=openid&authuser=0&prompt=consent HTTP/1.1\" 200 -\n"
     ]
    }
   ],
   "source": [
    "# Instantiate the client\n",
    "client = CrowClient(stage=Stage.DEV, auth_type=AuthType.GOOGLE)"
   ]
  },
  {
   "cell_type": "code",
   "execution_count": null,
   "metadata": {},
   "outputs": [
    {
     "name": "stdout",
     "output_type": "stream",
     "text": [
      "{'status': 'success', 'public': False, 'agent_state': [{'id': 'dc6b256c-d11f-4c60-8715-2a322362a524', 'trajectory_id': '5f36570b-bebb-44ce-8984-245097f0a286', 'trajectory_timestep': 4, 'step': 'after_transition', 'state': {'transition': {'timestep': 4, 'agent_state': {'tools': [{'type': 'function', 'info': {'name': 'print_story', 'description': 'Print a story.', 'parameters': {'type': 'object', 'properties': {'story': {'description': 'Story to print.', 'title': 'Story', 'type': 'string'}}, 'required': ['story']}}}, {'type': 'function', 'info': {'name': 'cast_float', 'description': 'Cast the input argument x to a float.', 'parameters': {'type': 'object', 'properties': {'x': {'title': 'X', 'type': 'string'}}, 'required': ['x']}}}, {'type': 'function', 'info': {'name': 'cast_int', 'description': 'Cast the input argument x to an integer.', 'parameters': {'type': 'object', 'properties': {'x': {'title': 'X', 'type': 'number'}}, 'required': ['x']}}}], 'messages': [{'role': 'user', 'content': 'Write a 5 word story via print_story about How many moons does earth have?'}, {'role': 'assistant', 'content': None, 'function_call': None, 'tool_calls': [{'id': 'call_ahDQUdj6ScS1ZCdzz65pgg59', 'type': 'function', 'function': {'arguments': '{\"story\": \"Earth has one natural moon.\"}', 'name': 'print_story'}}]}, {'role': 'tool', 'content': 'Earth has one natural moon.', 'name': 'print_story', 'tool_call_id': 'call_ahDQUdj6ScS1ZCdzz65pgg59'}, {'role': 'assistant', 'content': None, 'function_call': None, 'tool_calls': [{'id': 'call_dv2Rvp9ecMiB0L0ca4CXdfEr', 'type': 'function', 'function': {'arguments': '{\"story\": \"Earth has only one moon.\"}', 'name': 'print_story'}}]}, {'role': 'tool', 'content': 'Earth has only one moon.', 'name': 'print_story', 'tool_call_id': 'call_dv2Rvp9ecMiB0L0ca4CXdfEr'}, {'role': 'assistant', 'content': None, 'function_call': None, 'tool_calls': [{'id': 'call_vrdU1ts02I67kaMJuutT0vE4', 'type': 'function', 'function': {'arguments': '{\"story\": \"Earth\\'s moon is called Luna.\"}', 'name': 'print_story'}}]}, {'role': 'tool', 'content': \"Earth's moon is called Luna.\", 'name': 'print_story', 'tool_call_id': 'call_vrdU1ts02I67kaMJuutT0vE4'}, {'role': 'assistant', 'content': None, 'function_call': None, 'tool_calls': [{'id': 'call_25VTjjXQaECH9cD24nW4xwL3', 'type': 'function', 'function': {'arguments': '{\"story\": \"Earth\\'s moon shines at night.\"}', 'name': 'print_story'}}]}], 'hide_old_env_states': False, 'hide_old_action_content': False}, 'next_agent_state': {'tools': [{'type': 'function', 'info': {'name': 'print_story', 'description': 'Print a story.', 'parameters': {'type': 'object', 'properties': {'story': {'description': 'Story to print.', 'title': 'Story', 'type': 'string'}}, 'required': ['story']}}}, {'type': 'function', 'info': {'name': 'cast_float', 'description': 'Cast the input argument x to a float.', 'parameters': {'type': 'object', 'properties': {'x': {'title': 'X', 'type': 'string'}}, 'required': ['x']}}}, {'type': 'function', 'info': {'name': 'cast_int', 'description': 'Cast the input argument x to an integer.', 'parameters': {'type': 'object', 'properties': {'x': {'title': 'X', 'type': 'number'}}, 'required': ['x']}}}], 'messages': [{'role': 'user', 'content': 'Write a 5 word story via print_story about How many moons does earth have?'}, {'role': 'assistant', 'content': None, 'function_call': None, 'tool_calls': [{'id': 'call_ahDQUdj6ScS1ZCdzz65pgg59', 'type': 'function', 'function': {'arguments': '{\"story\": \"Earth has one natural moon.\"}', 'name': 'print_story'}}]}, {'role': 'tool', 'content': 'Earth has one natural moon.', 'name': 'print_story', 'tool_call_id': 'call_ahDQUdj6ScS1ZCdzz65pgg59'}, {'role': 'assistant', 'content': None, 'function_call': None, 'tool_calls': [{'id': 'call_dv2Rvp9ecMiB0L0ca4CXdfEr', 'type': 'function', 'function': {'arguments': '{\"story\": \"Earth has only one moon.\"}', 'name': 'print_story'}}]}, {'role': 'tool', 'content': 'Earth has only one moon.', 'name': 'print_story', 'tool_call_id': 'call_dv2Rvp9ecMiB0L0ca4CXdfEr'}, {'role': 'assistant', 'content': None, 'function_call': None, 'tool_calls': [{'id': 'call_vrdU1ts02I67kaMJuutT0vE4', 'type': 'function', 'function': {'arguments': '{\"story\": \"Earth\\'s moon is called Luna.\"}', 'name': 'print_story'}}]}, {'role': 'tool', 'content': \"Earth's moon is called Luna.\", 'name': 'print_story', 'tool_call_id': 'call_vrdU1ts02I67kaMJuutT0vE4'}, {'role': 'assistant', 'content': None, 'function_call': None, 'tool_calls': [{'id': 'call_25VTjjXQaECH9cD24nW4xwL3', 'type': 'function', 'function': {'arguments': '{\"story\": \"Earth\\'s moon shines at night.\"}', 'name': 'print_story'}}]}, {'role': 'tool', 'content': \"Earth's moon shines at night.\", 'name': 'print_story', 'tool_call_id': 'call_25VTjjXQaECH9cD24nW4xwL3'}, {'role': 'assistant', 'content': None, 'function_call': None, 'tool_calls': [{'id': 'call_4LaWMCZmORmZJwZzQDCfP20D', 'type': 'function', 'function': {'arguments': '{\"story\": \"Earth\\'s moon orbits the planet.\"}', 'name': 'print_story'}}]}], 'hide_old_env_states': False, 'hide_old_action_content': False}, 'observation': [{'role': 'tool', 'content': \"Earth's moon shines at night.\", 'name': 'print_story', 'tool_call_id': 'call_25VTjjXQaECH9cD24nW4xwL3'}], 'next_observation': [{'role': 'tool', 'content': \"Earth's moon orbits the planet.\", 'name': 'print_story', 'tool_call_id': 'call_4LaWMCZmORmZJwZzQDCfP20D'}], 'action': {'call_id': {'run_id': '321356dd-4e8d-4be3-a6ca-8d6f61df0439', 'fwd_id': 'c8c5628f-5ba0-4ccb-916a-a902447fd988'}, 'op_name': '_llm_call_op', 'op_class_name': 'ldp.graph.common_ops.LLMCallOp', 'value': {'role': 'assistant', 'content': None, 'function_call': None, 'tool_calls': [{'id': 'call_4LaWMCZmORmZJwZzQDCfP20D', 'type': 'function', 'function': {'arguments': '{\"story\": \"Earth\\'s moon orbits the planet.\"}', 'name': 'print_story'}}]}, 'logprob': None}, 'reward': 1.0, 'truncated': False, 'done': True, 'value': 0.0, 'metadata': {}}}, 'created_at': '2025-03-14T17:11:22.915897Z'}], 'environment_frame': {'id': '906d0af0-ead0-4baa-ad39-2d30fd868ce5', 'agent_state_point_in_time': 'ldp.agent.SimpleAgent-after_transition-4', 'trajectory_timestep': 4, 'current_agent_step': 'after_transition', 'trajectory_id': '5f36570b-bebb-44ce-8984-245097f0a286', 'state': {'deepcopy': True, 'state': {'messages': ['Write a 5 word story via print_story about How many moons does earth have?', 'Earth has one natural moon.', 'Earth has only one moon.', \"Earth's moon is called Luna.\", \"Earth's moon shines at night.\", \"Earth's moon orbits the planet.\"], 'pdbs': ['https://storage.googleapis.com/fh-public/wikicrow2_pdbs/A1BG.pdb', 'https://storage.googleapis.com/fh-public/wikicrow2_pdbs/ABHD16B.pdb', 'https://storage.googleapis.com/fh-public/wikicrow2_pdbs/AADACL4.pdb'], 'single_pdb': 'https://storage.googleapis.com/fh-public/wikicrow2_pdbs/ABCD4.pdb'}, 'info': {'tool_names': ['print_story', 'cast_float', 'cast_int'], 'done': True, 'reward': 1.0}}, 'supplemental_data': None, 'created_at': '2025-03-14T17:11:23.714979Z'}, 'metadata': None, 'task': 'How many moons does earth have?', 'user': 'mayk@futurehouse.org', 'shared_with': [], 'created_at': '2025-03-14T17:10:46.025583Z', 'build_owner': 'ludo@futurehouse.org', 'crow': 'job-futurehouse-dummy-env-dev'}\n"
     ]
    }
   ],
   "source": [
    "# Create a simple Job\n",
    "job_data = JobRequest(\n",
    "    name=\"job-futurehouse-dummy-env-dev\",\n",
    "    query=\"How many moons does earth have?\",\n",
    ")\n",
    "client.create_job(job_data)\n",
    "\n",
    "while client.get_job()[\"status\"] != \"success\":\n",
    "    time.sleep(5)\n",
    "print(client.get_job())"
   ]
  },
  {
   "cell_type": "code",
   "execution_count": null,
   "metadata": {},
   "outputs": [
    {
     "name": "stdout",
     "output_type": "stream",
     "text": [
      "{'status': 'success', 'public': False, 'agent_state': [{'id': 'fcd05d1d-660a-41a0-85de-6a42259d5db7', 'trajectory_id': '75b5c39a-ff9d-40a7-aca9-84af93e99079', 'trajectory_timestep': 4, 'step': 'after_transition', 'state': {'transition': {'timestep': 4, 'agent_state': {'tools': [{'type': 'function', 'info': {'name': 'print_story', 'description': 'Print a story.', 'parameters': {'type': 'object', 'properties': {'story': {'description': 'Story to print.', 'title': 'Story', 'type': 'string'}}, 'required': ['story']}}}, {'type': 'function', 'info': {'name': 'cast_float', 'description': 'Cast the input argument x to a float.', 'parameters': {'type': 'object', 'properties': {'x': {'title': 'X', 'type': 'string'}}, 'required': ['x']}}}, {'type': 'function', 'info': {'name': 'cast_int', 'description': 'Cast the input argument x to an integer.', 'parameters': {'type': 'object', 'properties': {'x': {'title': 'X', 'type': 'number'}}, 'required': ['x']}}}], 'messages': [{'role': 'user', 'content': 'Write a 5 word story via print_story about How many moons does earth have?'}, {'role': 'assistant', 'content': None, 'function_call': None, 'tool_calls': [{'id': 'call_phl5kSol14xfL5vA7rbRjH1X', 'type': 'function', 'function': {'arguments': '{\"story\": \"Earth has one natural moon.\"}', 'name': 'print_story'}}]}, {'role': 'tool', 'content': 'Earth has one natural moon.', 'name': 'print_story', 'tool_call_id': 'call_phl5kSol14xfL5vA7rbRjH1X'}, {'role': 'assistant', 'content': None, 'function_call': None, 'tool_calls': [{'id': 'call_iI5Eb6ig1g7BG6ptLm6sDPko', 'type': 'function', 'function': {'arguments': '{\"story\": \"Earth has one natural moon.\"}', 'name': 'print_story'}}]}, {'role': 'tool', 'content': 'Earth has one natural moon.', 'name': 'print_story', 'tool_call_id': 'call_iI5Eb6ig1g7BG6ptLm6sDPko'}, {'role': 'assistant', 'content': None, 'function_call': None, 'tool_calls': [{'id': 'call_nDHGrSadlwYTIarT2pn1kkLq', 'type': 'function', 'function': {'arguments': '{\"story\": \"Earth has one natural moon.\"}', 'name': 'print_story'}}]}, {'role': 'tool', 'content': 'Earth has one natural moon.', 'name': 'print_story', 'tool_call_id': 'call_nDHGrSadlwYTIarT2pn1kkLq'}, {'role': 'assistant', 'content': None, 'function_call': None, 'tool_calls': [{'id': 'call_6dNHxQIghCCqDDUCoa3CiRI0', 'type': 'function', 'function': {'arguments': '{\"story\": \"Earth has one natural moon.\"}', 'name': 'print_story'}}]}], 'hide_old_env_states': False, 'hide_old_action_content': False}, 'next_agent_state': {'tools': [{'type': 'function', 'info': {'name': 'print_story', 'description': 'Print a story.', 'parameters': {'type': 'object', 'properties': {'story': {'description': 'Story to print.', 'title': 'Story', 'type': 'string'}}, 'required': ['story']}}}, {'type': 'function', 'info': {'name': 'cast_float', 'description': 'Cast the input argument x to a float.', 'parameters': {'type': 'object', 'properties': {'x': {'title': 'X', 'type': 'string'}}, 'required': ['x']}}}, {'type': 'function', 'info': {'name': 'cast_int', 'description': 'Cast the input argument x to an integer.', 'parameters': {'type': 'object', 'properties': {'x': {'title': 'X', 'type': 'number'}}, 'required': ['x']}}}], 'messages': [{'role': 'user', 'content': 'Write a 5 word story via print_story about How many moons does earth have?'}, {'role': 'assistant', 'content': None, 'function_call': None, 'tool_calls': [{'id': 'call_phl5kSol14xfL5vA7rbRjH1X', 'type': 'function', 'function': {'arguments': '{\"story\": \"Earth has one natural moon.\"}', 'name': 'print_story'}}]}, {'role': 'tool', 'content': 'Earth has one natural moon.', 'name': 'print_story', 'tool_call_id': 'call_phl5kSol14xfL5vA7rbRjH1X'}, {'role': 'assistant', 'content': None, 'function_call': None, 'tool_calls': [{'id': 'call_iI5Eb6ig1g7BG6ptLm6sDPko', 'type': 'function', 'function': {'arguments': '{\"story\": \"Earth has one natural moon.\"}', 'name': 'print_story'}}]}, {'role': 'tool', 'content': 'Earth has one natural moon.', 'name': 'print_story', 'tool_call_id': 'call_iI5Eb6ig1g7BG6ptLm6sDPko'}, {'role': 'assistant', 'content': None, 'function_call': None, 'tool_calls': [{'id': 'call_nDHGrSadlwYTIarT2pn1kkLq', 'type': 'function', 'function': {'arguments': '{\"story\": \"Earth has one natural moon.\"}', 'name': 'print_story'}}]}, {'role': 'tool', 'content': 'Earth has one natural moon.', 'name': 'print_story', 'tool_call_id': 'call_nDHGrSadlwYTIarT2pn1kkLq'}, {'role': 'assistant', 'content': None, 'function_call': None, 'tool_calls': [{'id': 'call_6dNHxQIghCCqDDUCoa3CiRI0', 'type': 'function', 'function': {'arguments': '{\"story\": \"Earth has one natural moon.\"}', 'name': 'print_story'}}]}, {'role': 'tool', 'content': 'Earth has one natural moon.', 'name': 'print_story', 'tool_call_id': 'call_6dNHxQIghCCqDDUCoa3CiRI0'}, {'role': 'assistant', 'content': None, 'function_call': None, 'tool_calls': [{'id': 'call_EFj5nIDCMMBpSwOT6nDd5WZl', 'type': 'function', 'function': {'arguments': '{\"story\": \"Earth has one natural moon.\"}', 'name': 'print_story'}}]}], 'hide_old_env_states': False, 'hide_old_action_content': False}, 'observation': [{'role': 'tool', 'content': 'Earth has one natural moon.', 'name': 'print_story', 'tool_call_id': 'call_6dNHxQIghCCqDDUCoa3CiRI0'}], 'next_observation': [{'role': 'tool', 'content': 'Earth has one natural moon.', 'name': 'print_story', 'tool_call_id': 'call_EFj5nIDCMMBpSwOT6nDd5WZl'}], 'action': {'call_id': {'run_id': '66bcee2f-6adf-4f41-b695-81c5e8a6f056', 'fwd_id': 'adde18c9-c1a1-443c-a5cf-5db6839d1676'}, 'op_name': '_llm_call_op', 'op_class_name': 'ldp.graph.common_ops.LLMCallOp', 'value': {'role': 'assistant', 'content': None, 'function_call': None, 'tool_calls': [{'id': 'call_EFj5nIDCMMBpSwOT6nDd5WZl', 'type': 'function', 'function': {'arguments': '{\"story\": \"Earth has one natural moon.\"}', 'name': 'print_story'}}]}, 'logprob': None}, 'reward': 1.0, 'truncated': False, 'done': True, 'value': 0.0, 'metadata': {}}}, 'created_at': '2025-03-14T17:12:43.934192Z'}], 'environment_frame': {'id': '1d0e82bf-7779-4f12-b9e5-9c0365fdf78c', 'agent_state_point_in_time': 'ldp.agent.SimpleAgent-after_transition-4', 'trajectory_timestep': 4, 'current_agent_step': 'after_transition', 'trajectory_id': '75b5c39a-ff9d-40a7-aca9-84af93e99079', 'state': {'deepcopy': True, 'state': {'messages': ['Write a 5 word story via print_story about How many moons does earth have?', 'Earth has one natural moon.', 'Earth has one natural moon.', 'Earth has one natural moon.', 'Earth has one natural moon.', 'Earth has one natural moon.'], 'pdbs': ['https://storage.googleapis.com/fh-public/wikicrow2_pdbs/A1BG.pdb', 'https://storage.googleapis.com/fh-public/wikicrow2_pdbs/ABHD16B.pdb', 'https://storage.googleapis.com/fh-public/wikicrow2_pdbs/AADACL4.pdb'], 'single_pdb': 'https://storage.googleapis.com/fh-public/wikicrow2_pdbs/ABCD4.pdb'}, 'info': {'tool_names': ['print_story', 'cast_float', 'cast_int'], 'done': True, 'reward': 1.0}}, 'supplemental_data': None, 'created_at': '2025-03-14T17:12:44.716271Z'}, 'metadata': None, 'task': 'How many moons does earth have?', 'user': 'mayk@futurehouse.org', 'shared_with': [], 'created_at': '2025-03-14T17:12:08.739726Z', 'build_owner': 'ludo@futurehouse.org', 'crow': 'job-futurehouse-dummy-env-dev'}\n"
     ]
    }
   ],
   "source": [
    "# Create a more complex job with runtime config\n",
    "\n",
    "agent = AgentConfig(\n",
    "    agent_type=\"ReActAgent\",\n",
    "    agent_kwargs={\n",
    "        \"model\": \"gpt-4o-mini\",\n",
    "        \"temperature\": 0.0,\n",
    "    },\n",
    ")\n",
    "job_data = JobRequest(\n",
    "    name=\"job-futurehouse-dummy-env-dev\",\n",
    "    query=\"How many moons does earth have?\",\n",
    "    runtime_config=RuntimeConfig(agent=agent, max_steps=5),\n",
    ")\n",
    "client.create_job(job_data)\n",
    "\n",
    "while client.get_job()[\"status\"] != \"success\":\n",
    "    time.sleep(5)\n",
    "print(client.get_job())"
   ]
  },
  {
   "cell_type": "code",
   "execution_count": null,
   "metadata": {},
   "outputs": [
    {
     "name": "stdout",
     "output_type": "stream",
     "text": [
      "\n",
      "Available organizations:\n",
      "[1]. FutureHouse\n",
      "[2]. MaykPersonal\n"
     ]
    },
    {
     "name": "stderr",
     "output_type": "stream",
     "text": [
      "Overwriting existing deployment '@MaykPersonal/dummy-env-dev'\n"
     ]
    },
    {
     "data": {
      "text/plain": [
       "{'build_id': '2bf5b4ec-9804-45c8-82ab-ecc1c1dbef20',\n",
       " 'image_uri': 'us-west2-docker.pkg.dev/agents-441015/crow-job-dev/job-maykpersonal-dummy-env-dev:timestamp-20250314-171547',\n",
       " 'logs_uri': 'https://console.cloud.google.com/cloud-build/builds;region=us-west2/2bf5b4ec-9804-45c8-82ab-ecc1c1dbef20?project=209212876053',\n",
       " 'job_name': 'job-maykpersonal-dummy-env-dev'}"
      ]
     },
     "execution_count": null,
     "metadata": {},
     "output_type": "execute_result"
    }
   ],
   "source": [
    "# Deploy a Crow with Frame Paths\n",
    "frame_paths = [\n",
    "    FramePath(path=\"state.pdbs\", type=\"pdb\", is_iterable=True),\n",
    "    FramePath(path=\"state.single_pdb\", type=\"pdb\"),\n",
    "]\n",
    "\n",
    "crow = CrowDeploymentConfig(\n",
    "    path=Path(\"./envs/dummy_env\"),\n",
    "    environment=\"dummy_env.env.DummyEnv\",\n",
    "    requires_aviary_internal=False,\n",
    "    environment_variables={\"SAMPLE_ENV_VAR\": \"sample_val\"},\n",
    "    agent=\"ldp.agent.SimpleAgent\",\n",
    "    container_config=DockerContainerConfiguration(cpu=\"1\", memory=\"2Gi\"),\n",
    "    force=True,\n",
    "    frame_paths=frame_paths,\n",
    "    task_description=\"This is a dummy task\",\n",
    ")\n",
    "client.create_crow(crow)"
   ]
  },
  {
   "cell_type": "code",
   "execution_count": null,
   "metadata": {},
   "outputs": [
    {
     "ename": "HTTPStatusError",
     "evalue": "Client error '403 Forbidden' for url 'https://dev.api.platform.futurehouse.org/v0.1/builds/2bf5b4ec-9804-45c8-82ab-ecc1c1dbef20'\nFor more information check: https://developer.mozilla.org/en-US/docs/Web/HTTP/Status/403",
     "output_type": "error",
     "traceback": [
      "\u001b[31m---------------------------------------------------------------------------\u001b[39m",
      "\u001b[31mHTTPStatusError\u001b[39m                           Traceback (most recent call last)",
      "\u001b[36mCell\u001b[39m\u001b[36m \u001b[39m\u001b[32mIn[11]\u001b[39m\u001b[32m, line 1\u001b[39m\n\u001b[32m----> \u001b[39m\u001b[32m1\u001b[39m \u001b[38;5;28;01mwhile\u001b[39;00m \u001b[43mclient\u001b[49m\u001b[43m.\u001b[49m\u001b[43mget_build_status\u001b[49m\u001b[43m(\u001b[49m\u001b[33;43m'\u001b[39;49m\u001b[33;43m2bf5b4ec-9804-45c8-82ab-ecc1c1dbef20\u001b[39;49m\u001b[33;43m'\u001b[39;49m\u001b[43m)\u001b[49m[\u001b[33m\"\u001b[39m\u001b[33mstatus\u001b[39m\u001b[33m\"\u001b[39m] != \u001b[33m\"\u001b[39m\u001b[33mSUCCESS\u001b[39m\u001b[33m\"\u001b[39m:\n\u001b[32m      2\u001b[39m     time.sleep(\u001b[32m5\u001b[39m)\n\u001b[32m      3\u001b[39m \u001b[38;5;28mprint\u001b[39m(client.get_build_status())\n",
      "\u001b[36mFile \u001b[39m\u001b[32m~/Documents/FutureHouse/crow-client-docs/.venv/lib/python3.12/site-packages/tenacity/__init__.py:336\u001b[39m, in \u001b[36mBaseRetrying.wraps.<locals>.wrapped_f\u001b[39m\u001b[34m(*args, **kw)\u001b[39m\n\u001b[32m    334\u001b[39m copy = \u001b[38;5;28mself\u001b[39m.copy()\n\u001b[32m    335\u001b[39m wrapped_f.statistics = copy.statistics  \u001b[38;5;66;03m# type: ignore[attr-defined]\u001b[39;00m\n\u001b[32m--> \u001b[39m\u001b[32m336\u001b[39m \u001b[38;5;28;01mreturn\u001b[39;00m \u001b[43mcopy\u001b[49m\u001b[43m(\u001b[49m\u001b[43mf\u001b[49m\u001b[43m,\u001b[49m\u001b[43m \u001b[49m\u001b[43m*\u001b[49m\u001b[43margs\u001b[49m\u001b[43m,\u001b[49m\u001b[43m \u001b[49m\u001b[43m*\u001b[49m\u001b[43m*\u001b[49m\u001b[43mkw\u001b[49m\u001b[43m)\u001b[49m\n",
      "\u001b[36mFile \u001b[39m\u001b[32m~/Documents/FutureHouse/crow-client-docs/.venv/lib/python3.12/site-packages/tenacity/__init__.py:475\u001b[39m, in \u001b[36mRetrying.__call__\u001b[39m\u001b[34m(self, fn, *args, **kwargs)\u001b[39m\n\u001b[32m    473\u001b[39m retry_state = RetryCallState(retry_object=\u001b[38;5;28mself\u001b[39m, fn=fn, args=args, kwargs=kwargs)\n\u001b[32m    474\u001b[39m \u001b[38;5;28;01mwhile\u001b[39;00m \u001b[38;5;28;01mTrue\u001b[39;00m:\n\u001b[32m--> \u001b[39m\u001b[32m475\u001b[39m     do = \u001b[38;5;28;43mself\u001b[39;49m\u001b[43m.\u001b[49m\u001b[43miter\u001b[49m\u001b[43m(\u001b[49m\u001b[43mretry_state\u001b[49m\u001b[43m=\u001b[49m\u001b[43mretry_state\u001b[49m\u001b[43m)\u001b[49m\n\u001b[32m    476\u001b[39m     \u001b[38;5;28;01mif\u001b[39;00m \u001b[38;5;28misinstance\u001b[39m(do, DoAttempt):\n\u001b[32m    477\u001b[39m         \u001b[38;5;28;01mtry\u001b[39;00m:\n",
      "\u001b[36mFile \u001b[39m\u001b[32m~/Documents/FutureHouse/crow-client-docs/.venv/lib/python3.12/site-packages/tenacity/__init__.py:376\u001b[39m, in \u001b[36mBaseRetrying.iter\u001b[39m\u001b[34m(self, retry_state)\u001b[39m\n\u001b[32m    374\u001b[39m result = \u001b[38;5;28;01mNone\u001b[39;00m\n\u001b[32m    375\u001b[39m \u001b[38;5;28;01mfor\u001b[39;00m action \u001b[38;5;129;01min\u001b[39;00m \u001b[38;5;28mself\u001b[39m.iter_state.actions:\n\u001b[32m--> \u001b[39m\u001b[32m376\u001b[39m     result = \u001b[43maction\u001b[49m\u001b[43m(\u001b[49m\u001b[43mretry_state\u001b[49m\u001b[43m)\u001b[49m\n\u001b[32m    377\u001b[39m \u001b[38;5;28;01mreturn\u001b[39;00m result\n",
      "\u001b[36mFile \u001b[39m\u001b[32m~/Documents/FutureHouse/crow-client-docs/.venv/lib/python3.12/site-packages/tenacity/__init__.py:398\u001b[39m, in \u001b[36mBaseRetrying._post_retry_check_actions.<locals>.<lambda>\u001b[39m\u001b[34m(rs)\u001b[39m\n\u001b[32m    396\u001b[39m \u001b[38;5;28;01mdef\u001b[39;00m\u001b[38;5;250m \u001b[39m\u001b[34m_post_retry_check_actions\u001b[39m(\u001b[38;5;28mself\u001b[39m, retry_state: \u001b[33m\"\u001b[39m\u001b[33mRetryCallState\u001b[39m\u001b[33m\"\u001b[39m) -> \u001b[38;5;28;01mNone\u001b[39;00m:\n\u001b[32m    397\u001b[39m     \u001b[38;5;28;01mif\u001b[39;00m \u001b[38;5;129;01mnot\u001b[39;00m (\u001b[38;5;28mself\u001b[39m.iter_state.is_explicit_retry \u001b[38;5;129;01mor\u001b[39;00m \u001b[38;5;28mself\u001b[39m.iter_state.retry_run_result):\n\u001b[32m--> \u001b[39m\u001b[32m398\u001b[39m         \u001b[38;5;28mself\u001b[39m._add_action_func(\u001b[38;5;28;01mlambda\u001b[39;00m rs: \u001b[43mrs\u001b[49m\u001b[43m.\u001b[49m\u001b[43moutcome\u001b[49m\u001b[43m.\u001b[49m\u001b[43mresult\u001b[49m\u001b[43m(\u001b[49m\u001b[43m)\u001b[49m)\n\u001b[32m    399\u001b[39m         \u001b[38;5;28;01mreturn\u001b[39;00m\n\u001b[32m    401\u001b[39m     \u001b[38;5;28;01mif\u001b[39;00m \u001b[38;5;28mself\u001b[39m.after \u001b[38;5;129;01mis\u001b[39;00m \u001b[38;5;129;01mnot\u001b[39;00m \u001b[38;5;28;01mNone\u001b[39;00m:\n",
      "\u001b[36mFile \u001b[39m\u001b[32m~/.local/share/uv/python/cpython-3.12.9-macos-aarch64-none/lib/python3.12/concurrent/futures/_base.py:449\u001b[39m, in \u001b[36mFuture.result\u001b[39m\u001b[34m(self, timeout)\u001b[39m\n\u001b[32m    447\u001b[39m     \u001b[38;5;28;01mraise\u001b[39;00m CancelledError()\n\u001b[32m    448\u001b[39m \u001b[38;5;28;01melif\u001b[39;00m \u001b[38;5;28mself\u001b[39m._state == FINISHED:\n\u001b[32m--> \u001b[39m\u001b[32m449\u001b[39m     \u001b[38;5;28;01mreturn\u001b[39;00m \u001b[38;5;28;43mself\u001b[39;49m\u001b[43m.\u001b[49m\u001b[43m__get_result\u001b[49m\u001b[43m(\u001b[49m\u001b[43m)\u001b[49m\n\u001b[32m    451\u001b[39m \u001b[38;5;28mself\u001b[39m._condition.wait(timeout)\n\u001b[32m    453\u001b[39m \u001b[38;5;28;01mif\u001b[39;00m \u001b[38;5;28mself\u001b[39m._state \u001b[38;5;129;01min\u001b[39;00m [CANCELLED, CANCELLED_AND_NOTIFIED]:\n",
      "\u001b[36mFile \u001b[39m\u001b[32m~/.local/share/uv/python/cpython-3.12.9-macos-aarch64-none/lib/python3.12/concurrent/futures/_base.py:401\u001b[39m, in \u001b[36mFuture.__get_result\u001b[39m\u001b[34m(self)\u001b[39m\n\u001b[32m    399\u001b[39m \u001b[38;5;28;01mif\u001b[39;00m \u001b[38;5;28mself\u001b[39m._exception:\n\u001b[32m    400\u001b[39m     \u001b[38;5;28;01mtry\u001b[39;00m:\n\u001b[32m--> \u001b[39m\u001b[32m401\u001b[39m         \u001b[38;5;28;01mraise\u001b[39;00m \u001b[38;5;28mself\u001b[39m._exception\n\u001b[32m    402\u001b[39m     \u001b[38;5;28;01mfinally\u001b[39;00m:\n\u001b[32m    403\u001b[39m         \u001b[38;5;66;03m# Break a reference cycle with the exception in self._exception\u001b[39;00m\n\u001b[32m    404\u001b[39m         \u001b[38;5;28mself\u001b[39m = \u001b[38;5;28;01mNone\u001b[39;00m\n",
      "\u001b[36mFile \u001b[39m\u001b[32m~/Documents/FutureHouse/crow-client-docs/.venv/lib/python3.12/site-packages/tenacity/__init__.py:478\u001b[39m, in \u001b[36mRetrying.__call__\u001b[39m\u001b[34m(self, fn, *args, **kwargs)\u001b[39m\n\u001b[32m    476\u001b[39m \u001b[38;5;28;01mif\u001b[39;00m \u001b[38;5;28misinstance\u001b[39m(do, DoAttempt):\n\u001b[32m    477\u001b[39m     \u001b[38;5;28;01mtry\u001b[39;00m:\n\u001b[32m--> \u001b[39m\u001b[32m478\u001b[39m         result = \u001b[43mfn\u001b[49m\u001b[43m(\u001b[49m\u001b[43m*\u001b[49m\u001b[43margs\u001b[49m\u001b[43m,\u001b[49m\u001b[43m \u001b[49m\u001b[43m*\u001b[49m\u001b[43m*\u001b[49m\u001b[43mkwargs\u001b[49m\u001b[43m)\u001b[49m\n\u001b[32m    479\u001b[39m     \u001b[38;5;28;01mexcept\u001b[39;00m \u001b[38;5;167;01mBaseException\u001b[39;00m:  \u001b[38;5;66;03m# noqa: B902\u001b[39;00m\n\u001b[32m    480\u001b[39m         retry_state.set_exception(sys.exc_info())  \u001b[38;5;66;03m# type: ignore[arg-type]\u001b[39;00m\n",
      "\u001b[36mFile \u001b[39m\u001b[32m~/Documents/FutureHouse/crow-client-docs/.venv/lib/python3.12/site-packages/crow_client/clients/rest_client.py:318\u001b[39m, in \u001b[36mRestClient.get_build_status\u001b[39m\u001b[34m(self, build_id)\u001b[39m\n\u001b[32m    316\u001b[39m build_id = build_id \u001b[38;5;129;01mor\u001b[39;00m \u001b[38;5;28mself\u001b[39m.build_id\n\u001b[32m    317\u001b[39m response = \u001b[38;5;28mself\u001b[39m.client.get(\u001b[33mf\u001b[39m\u001b[33m\"\u001b[39m\u001b[33m/v0.1/builds/\u001b[39m\u001b[38;5;132;01m{\u001b[39;00mbuild_id\u001b[38;5;132;01m}\u001b[39;00m\u001b[33m\"\u001b[39m)\n\u001b[32m--> \u001b[39m\u001b[32m318\u001b[39m \u001b[43mresponse\u001b[49m\u001b[43m.\u001b[49m\u001b[43mraise_for_status\u001b[49m\u001b[43m(\u001b[49m\u001b[43m)\u001b[49m\n\u001b[32m    319\u001b[39m \u001b[38;5;28;01mreturn\u001b[39;00m response.json()\n",
      "\u001b[36mFile \u001b[39m\u001b[32m~/Documents/FutureHouse/crow-client-docs/.venv/lib/python3.12/site-packages/httpx/_models.py:829\u001b[39m, in \u001b[36mResponse.raise_for_status\u001b[39m\u001b[34m(self)\u001b[39m\n\u001b[32m    827\u001b[39m error_type = error_types.get(status_class, \u001b[33m\"\u001b[39m\u001b[33mInvalid status code\u001b[39m\u001b[33m\"\u001b[39m)\n\u001b[32m    828\u001b[39m message = message.format(\u001b[38;5;28mself\u001b[39m, error_type=error_type)\n\u001b[32m--> \u001b[39m\u001b[32m829\u001b[39m \u001b[38;5;28;01mraise\u001b[39;00m HTTPStatusError(message, request=request, response=\u001b[38;5;28mself\u001b[39m)\n",
      "\u001b[31mHTTPStatusError\u001b[39m: Client error '403 Forbidden' for url 'https://dev.api.platform.futurehouse.org/v0.1/builds/2bf5b4ec-9804-45c8-82ab-ecc1c1dbef20'\nFor more information check: https://developer.mozilla.org/en-US/docs/Web/HTTP/Status/403"
     ]
    }
   ],
   "source": [
    "while client.get_build_status()[\"status\"] != \"SUCCESS\":\n",
    "    time.sleep(5)\n",
    "print(client.get_build_status())"
   ]
  }
 ],
 "metadata": {
  "kernelspec": {
   "display_name": ".venv",
   "language": "python",
   "name": "python3"
  },
  "language_info": {
   "codemirror_mode": {
    "name": "ipython",
    "version": 3
   },
   "file_extension": ".py",
   "mimetype": "text/x-python",
   "name": "python",
   "nbconvert_exporter": "python",
   "pygments_lexer": "ipython3"
  }
 },
 "nbformat": 4,
 "nbformat_minor": 4
}
