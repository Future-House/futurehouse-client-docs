{
 "cells": [
  {
   "cell_type": "markdown",
   "metadata": {},
   "source": [
    "# Crow Client usage example"
   ]
  },
  {
   "cell_type": "code",
   "execution_count": null,
   "metadata": {},
   "outputs": [
    {
     "ename": "ImportError",
     "evalue": "cannot import name 'JobNames' from 'crow_client' (/Users/maykcaldas/Documents/FutureHouse/crow-client-docs/.venv/lib/python3.12/site-packages/crow_client/__init__.py)",
     "output_type": "error",
     "traceback": [
      "\u001b[31m---------------------------------------------------------------------------\u001b[39m",
      "\u001b[31mImportError\u001b[39m                               Traceback (most recent call last)",
      "\u001b[36mCell\u001b[39m\u001b[36m \u001b[39m\u001b[32mIn[2]\u001b[39m\u001b[32m, line 4\u001b[39m\n\u001b[32m      1\u001b[39m \u001b[38;5;28;01mimport\u001b[39;00m\u001b[38;5;250m \u001b[39m\u001b[34;01mtime\u001b[39;00m\n\u001b[32m      2\u001b[39m \u001b[38;5;28;01mfrom\u001b[39;00m\u001b[38;5;250m \u001b[39m\u001b[34;01mpathlib\u001b[39;00m\u001b[38;5;250m \u001b[39m\u001b[38;5;28;01mimport\u001b[39;00m Path\n\u001b[32m----> \u001b[39m\u001b[32m4\u001b[39m \u001b[38;5;28;01mfrom\u001b[39;00m\u001b[38;5;250m \u001b[39m\u001b[34;01mcrow_client\u001b[39;00m\u001b[38;5;250m \u001b[39m\u001b[38;5;28;01mimport\u001b[39;00m CrowClient, JobNames\n\u001b[32m      5\u001b[39m \u001b[38;5;28;01mfrom\u001b[39;00m\u001b[38;5;250m \u001b[39m\u001b[34;01mcrow_client\u001b[39;00m\u001b[34;01m.\u001b[39;00m\u001b[34;01mmodels\u001b[39;00m\u001b[38;5;250m \u001b[39m\u001b[38;5;28;01mimport\u001b[39;00m (\n\u001b[32m      6\u001b[39m     AuthType,\n\u001b[32m      7\u001b[39m     CrowDeploymentConfig,\n\u001b[32m   (...)\u001b[39m\u001b[32m     12\u001b[39m     Stage,\n\u001b[32m     13\u001b[39m )\n\u001b[32m     14\u001b[39m \u001b[38;5;28;01mfrom\u001b[39;00m\u001b[38;5;250m \u001b[39m\u001b[34;01mldp\u001b[39;00m\u001b[34;01m.\u001b[39;00m\u001b[34;01magent\u001b[39;00m\u001b[38;5;250m \u001b[39m\u001b[38;5;28;01mimport\u001b[39;00m AgentConfig\n",
      "\u001b[31mImportError\u001b[39m: cannot import name 'JobNames' from 'crow_client' (/Users/maykcaldas/Documents/FutureHouse/crow-client-docs/.venv/lib/python3.12/site-packages/crow_client/__init__.py)"
     ]
    }
   ],
   "source": [
    "import time\n",
    "from pathlib import Path\n",
    "\n",
    "from crow_client import CrowClient\n",
    "from crow_client.clients import JobNames\n",
    "from crow_client.models import (\n",
    "    AuthType,\n",
    "    CrowDeploymentConfig,\n",
    "    DockerContainerConfiguration,\n",
    "    FramePath,\n",
    "    JobRequest,\n",
    "    RuntimeConfig,\n",
    "    Stage,\n",
    ")\n",
    "from ldp.agent import AgentConfig"
   ]
  },
  {
   "cell_type": "markdown",
   "metadata": {},
   "source": [
    "## Client instantiation"
   ]
  },
  {
   "cell_type": "code",
   "execution_count": null,
   "metadata": {},
   "outputs": [],
   "source": [
    "client = CrowClient(stage=Stage.DEV, auth_type=AuthType.GOOGLE)"
   ]
  },
  {
   "cell_type": "markdown",
   "metadata": {},
   "source": [
    "## Submit a job"
   ]
  },
  {
   "cell_type": "markdown",
   "metadata": {},
   "source": [
    "Submitting jobs is done by calling the `create_job` method, which receives a `JobRequest` object."
   ]
  },
  {
   "cell_type": "code",
   "execution_count": null,
   "metadata": {},
   "outputs": [],
   "source": [
    "job_data = JobRequest(\n",
    "    name=JobNames.from_string(\"dummy\"),\n",
    "    query=\"How many moons does earth have?\",\n",
    ")\n",
    "client.create_job(job_data)\n",
    "\n",
    "while client.get_job()[\"status\"] != \"success\":\n",
    "    time.sleep(5)\n",
    "print(client.get_job())"
   ]
  },
  {
   "cell_type": "markdown",
   "metadata": {},
   "source": [
    "You can also pass a `runtime_config` to the job, which will be used to configure the agent on runtime."
   ]
  },
  {
   "cell_type": "code",
   "execution_count": null,
   "metadata": {},
   "outputs": [],
   "source": [
    "agent = AgentConfig(\n",
    "    agent_type=\"ReActAgent\",\n",
    "    agent_kwargs={\n",
    "        \"model\": \"gpt-4o-mini\",\n",
    "        \"temperature\": 0.0,\n",
    "    },\n",
    ")\n",
    "job_data = JobRequest(\n",
    "    name=JobNames.DUMMY,\n",
    "    query=\"How many moons does earth have?\",\n",
    "    runtime_config=RuntimeConfig(agent=agent, max_steps=5),\n",
    ")\n",
    "client.create_job(job_data)\n",
    "\n",
    "while client.get_job()[\"status\"] != \"success\":\n",
    "    time.sleep(5)\n",
    "print(client.get_job())"
   ]
  },
  {
   "cell_type": "markdown",
   "metadata": {},
   "source": [
    "## Deploy a Crow\n",
    "A crow is a deployment of an environment, which will be used to run the agent.\n",
    "Deploying a crow is done by calling the `create_crow` method, which receives a `CrowDeploymentConfig` object.\n"
   ]
  },
  {
   "cell_type": "code",
   "execution_count": null,
   "metadata": {},
   "outputs": [],
   "source": [
    "\n",
    "frame_paths = [\n",
    "    FramePath(path=\"state.pdbs\", type=\"pdb\", is_iterable=True),\n",
    "    FramePath(path=\"state.single_pdb\", type=\"pdb\"),\n",
    "]\n",
    "\n",
    "crow = CrowDeploymentConfig(\n",
    "    path=Path(\"./envs/dummy_env\"),\n",
    "    environment=\"dummy_env.env.DummyEnv\",\n",
    "    requires_aviary_internal=False,\n",
    "    environment_variables={\"SAMPLE_ENV_VAR\": \"sample_val\"},\n",
    "    agent=\"ldp.agent.SimpleAgent\",\n",
    "    container_config=DockerContainerConfiguration(cpu=\"1\", memory=\"2Gi\"),\n",
    "    force=True,\n",
    "    frame_paths=frame_paths,\n",
    "    task_description=\"This is a dummy task\",\n",
    ")\n",
    "client.create_crow(crow)"
   ]
  },
  {
   "cell_type": "code",
   "execution_count": null,
   "metadata": {},
   "outputs": [],
   "source": [
    "while client.get_build_status()[\"status\"] != \"SUCCESS\":\n",
    "    time.sleep(5)\n",
    "print(client.get_build_status())"
   ]
  }
 ],
 "metadata": {
  "kernelspec": {
   "display_name": ".venv",
   "language": "python",
   "name": "python3"
  },
  "language_info": {
   "codemirror_mode": {
    "name": "ipython",
    "version": 3
   },
   "file_extension": ".py",
   "mimetype": "text/x-python",
   "name": "python",
   "nbconvert_exporter": "python",
   "pygments_lexer": "ipython3"
  }
 },
 "nbformat": 4,
 "nbformat_minor": 4
}
